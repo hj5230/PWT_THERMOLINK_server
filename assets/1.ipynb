{
 "cells": [
  {
   "cell_type": "code",
   "execution_count": 33,
   "metadata": {},
   "outputs": [
    {
     "name": "stderr",
     "output_type": "stream",
     "text": [
      "c:\\python38\\lib\\site-packages\\statsmodels\\tsa\\base\\tsa_model.py:473: ValueWarning: A date index has been provided, but it has no associated frequency information and so will be ignored when e.g. forecasting.\n",
      "  self._init_dates(dates, freq)\n",
      "c:\\python38\\lib\\site-packages\\statsmodels\\tsa\\base\\tsa_model.py:473: ValueWarning: A date index has been provided, but it has no associated frequency information and so will be ignored when e.g. forecasting.\n",
      "  self._init_dates(dates, freq)\n",
      "c:\\python38\\lib\\site-packages\\sklearn\\base.py:450: UserWarning: X does not have valid feature names, but IsolationForest was fitted with feature names\n",
      "  warnings.warn(\n"
     ]
    },
    {
     "name": "stdout",
     "output_type": "stream",
     "text": [
      "Average RMSE for Heater On Time Prediction: 18.957890854167175\n",
      "Heater On Time Prediction model saved successfully.\n"
     ]
    }
   ],
   "source": [
    "import pandas as pd\n",
    "import numpy as np\n",
    "from sklearn.model_selection import train_test_split, cross_val_score\n",
    "from sklearn.preprocessing import StandardScaler\n",
    "from sklearn.ensemble import RandomForestRegressor\n",
    "from sklearn.model_selection import train_test_split, cross_val_score\n",
    "from sklearn.preprocessing import StandardScaler\n",
    "from sklearn.svm import SVC\n",
    "from statsmodels.tsa.statespace.sarimax import SARIMAX\n",
    "from sklearn.cluster import KMeans\n",
    "from sklearn.ensemble import IsolationForest\n",
    "from joblib import dump\n",
    "# 加载数据集\n",
    "df = pd.read_csv('simulated_heater_usage_data.csv')  # 替换为新数据集的路径\n",
    "\n",
    "# 数据预处理\n",
    "df['date'] = pd.to_datetime(df['date'])\n",
    "df['weekday'] = df['date'].dt.weekday\n",
    "df['hour'] = df['time'].apply(lambda x: int(x.split(':')[0]))\n",
    "df['minutes_of_day'] = df['time'].apply(lambda x: int(x.split(':')[0]) * 60 + int(x.split(':')[1]))\n",
    "df['heater_on'] = df['heater_on'].astype(int)\n",
    "# 将 'heater_on' 列编码为二进制值\n",
    "\n",
    "\n",
    "# 时间序列分析\n",
    "# 选择时间序列数据\n",
    "ts_data = df.set_index('datetime')['heater_on']\n",
    "\n",
    "# 定义SARIMAX模型\n",
    "sarimax_model = SARIMAX(ts_data, order=(1, 1, 1), seasonal_order=(1, 1, 1, 24))\n",
    "\n",
    "# 训练模型\n",
    "sarimax_result = sarimax_model.fit()\n",
    "\n",
    "# 聚类分析\n",
    "# 选择聚类特征\n",
    "clustering_features = df[['hour', 'temperature_outside', 'humidity']]\n",
    "\n",
    "# 定义KMeans模型\n",
    "kmeans = KMeans(n_clusters=3, random_state=0)\n",
    "\n",
    "# 训练模型\n",
    "kmeans.fit(clustering_features)\n",
    "\n",
    "# 获取聚类标签\n",
    "cluster_labels = kmeans.labels_\n",
    "\n",
    "# 异常检测\n",
    "# 定义Isolation Forest模型\n",
    "iso_forest = IsolationForest(n_estimators=100, contamination=0.01, random_state=0)\n",
    "\n",
    "# 训练模型\n",
    "iso_forest.fit(clustering_features)\n",
    "\n",
    "# 预测异常\n",
    "anomalies = iso_forest.predict(clustering_features)\n",
    "\n",
    "# 加入聚类和异常检测结果\n",
    "df['cluster_label'] = cluster_labels\n",
    "df['anomaly'] = anomalies\n",
    "\n",
    "# 选择特征和目标\n",
    "X = df[['weekday', 'hour', 'target_temperature', 'initial_temperature', 'cluster_label', 'anomaly']]\n",
    "y_time = df['minutes_of_day'] \n",
    "\n",
    "# 数据标准化\n",
    "scaler = StandardScaler()\n",
    "X_scaled = scaler.fit_transform(X)\n",
    "\n",
    "# 模型定义\n",
    "heater_on_time_model = RandomForestRegressor(n_estimators=100, random_state=0)\n",
    "\n",
    "# 训练模型\n",
    "heater_on_time_model.fit(X_scaled, y_time)\n",
    "\n",
    "# 应用交叉验证来评估模型 (可选)\n",
    "cross_val_score_heater_on_time = cross_val_score(heater_on_time_model, X_scaled, y_time, cv=5, scoring='neg_mean_squared_error')\n",
    "\n",
    "# 计算平均均方根误差 (RMSE)\n",
    "average_rmse_heater_on_time = np.sqrt(-np.mean(cross_val_score_heater_on_time))\n",
    "print(\"Average RMSE for Heater On Time Prediction:\", average_rmse_heater_on_time)\n",
    "\n",
    "# 保存模型\n",
    "dump(heater_on_time_model, 'heater_on_time_prediction_model.joblib')\n",
    "\n",
    "print(\"Heater On Time Prediction model saved successfully.\")"
   ]
  },
  {
   "cell_type": "code",
   "execution_count": 34,
   "metadata": {},
   "outputs": [
    {
     "name": "stdout",
     "output_type": "stream",
     "text": [
      "Average RMSE: 2.2384017958846765\n"
     ]
    },
    {
     "data": {
      "text/plain": [
       "['temperature_prediction_model.joblib']"
      ]
     },
     "execution_count": 34,
     "metadata": {},
     "output_type": "execute_result"
    }
   ],
   "source": [
    "import pandas as pd\n",
    "import numpy as np\n",
    "from sklearn.model_selection import train_test_split, cross_val_score\n",
    "from sklearn.ensemble import RandomForestRegressor\n",
    "\n",
    "# 加载数据集\n",
    "df = pd.read_csv('simulated_heater_usage_data.csv')\n",
    "\n",
    "# 数据预处理\n",
    "df['date'] = pd.to_datetime(df['date']).dt.date\n",
    "df['weekday'] = pd.to_datetime(df['date']).dt.weekday  # Monday=0, Sunday=6\n",
    "df['hour'] = df['time'].apply(lambda x: int(x.split(':')[0]))\n",
    "\n",
    "# 选择特征和目标\n",
    "X = df[['weekday', 'hour', 'initial_temperature']]\n",
    "y_temp = df['target_temperature']\n",
    "\n",
    "# 初始化随机森林回归器\n",
    "random_forest_regressor = RandomForestRegressor(n_estimators=100, random_state=0)\n",
    "\n",
    "# 应用交叉验证来评估温度预测模型\n",
    "cross_val_scores_temp = cross_val_score(random_forest_regressor, X, y_temp, cv=5, scoring='neg_mean_squared_error')\n",
    "\n",
    "# 计算平均均方根误差 (RMSE)\n",
    "average_rmse = np.sqrt(-np.mean(cross_val_scores_temp))\n",
    "print(\"Average RMSE:\", average_rmse)\n",
    "random_forest_regressor.fit(X, y_temp)\n",
    "dump(random_forest_regressor, 'temperature_prediction_model.joblib')"
   ]
  },
  {
   "cell_type": "code",
   "execution_count": null,
   "metadata": {},
   "outputs": [
    {
     "name": "stdout",
     "output_type": "stream",
     "text": [
      "RMSE on test set: 3.4487932698996873\n"
     ]
    }
   ],
   "source": [
    "from sklearn.linear_model import LinearRegression\n",
    "from sklearn.model_selection import train_test_split\n",
    "from sklearn.metrics import mean_squared_error\n",
    "import pandas as pd\n",
    "import numpy as np\n",
    "\n",
    "# 加载数据集\n",
    "df = pd.read_csv('simulated_heater_usage_data.csv')\n",
    "\n",
    "# 确保数据中没有缺失值\n",
    "df = df.dropna()\n",
    "\n",
    "# 选择特征和目标变量\n",
    "X = df[['initial_temperature', 'target_temperature', 'temperature_outside', 'humidity']]  # 特征\n",
    "y = df['heating_time']  # 目标变量\n",
    "\n",
    "# 数据划分为训练集和测试集\n",
    "X_train, X_test, y_train, y_test = train_test_split(X, y, test_size=0.2, random_state=42)\n",
    "\n",
    "# 初始化线性回归模型\n",
    "model = LinearRegression()\n",
    "\n",
    "# 训练模型\n",
    "model.fit(X_train, y_train)\n",
    "\n",
    "# 在测试集上进行预测\n",
    "y_pred = model.predict(X_test)\n",
    "\n",
    "# 计算测试集上的RMSE\n",
    "rmse = np.sqrt(mean_squared_error(y_test, y_pred))\n",
    "\n",
    "print(\"RMSE on test set:\", rmse)\n",
    "model.fit(X_train, y_train)\n",
    "joblib.dump(model, 'heating_time_prediction_model.joblib')"
   ]
  },
  {
   "cell_type": "code",
   "execution_count": null,
   "metadata": {},
   "outputs": [
    {
     "name": "stdout",
     "output_type": "stream",
     "text": [
      "Unique values in 'heater_on': [1 0]\n",
      "Data type of 'heater_on': int32\n",
      "Models saved successfully.\n"
     ]
    }
   ],
   "source": [
    "from joblib import dump\n",
    "\n",
    "# 检查 y 的唯一值和数据类型\n",
    "print(\"Unique values in 'heater_on':\", df['heater_on'].unique())\n",
    "print(\"Data type of 'heater_on':\", df['heater_on'].dtype)\n",
    "\n",
    "# 如果 y 的数据类型不是整数，将其转换为整数\n",
    "if df['heater_on'].dtype != 'int':\n",
    "    df['heater_on'] = df['heater_on'].astype(int)\n",
    "\n",
    "# 训练预测加热器开启时间的模型\n",
    "voting_classifier.fit(X_scaled, df['heater_on'])\n",
    "dump(voting_classifier, 'voting_classifier.joblib')\n",
    "\n",
    "# 训练并保存预测目标温度的模型\n",
    "# 确保 X 和 y_temp 已准备好并且是正确的\n",
    "random_forest_regressor.fit(X, y_temp)\n",
    "dump(random_forest_regressor, 'temperature_prediction_model.joblib')\n",
    "\n",
    "# 训练并保存预测所需加热时间的模型\n",
    "# 确保 X_train, X_test, y_train, y_test 已准备好并且是正确的\n",
    "model.fit(X_train, y_train)\n",
    "dump(model, 'heating_time_prediction_model.joblib')\n",
    "\n",
    "# 输出模型保存信息\n",
    "print(\"Models saved successfully.\")\n"
   ]
  }
 ],
 "metadata": {
  "kernelspec": {
   "display_name": "Python 3",
   "language": "python",
   "name": "python3"
  },
  "language_info": {
   "codemirror_mode": {
    "name": "ipython",
    "version": 3
   },
   "file_extension": ".py",
   "mimetype": "text/x-python",
   "name": "python",
   "nbconvert_exporter": "python",
   "pygments_lexer": "ipython3",
   "version": "3.8.1"
  }
 },
 "nbformat": 4,
 "nbformat_minor": 2
}
